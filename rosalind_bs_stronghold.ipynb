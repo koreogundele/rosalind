{
 "cells": [
  {
   "cell_type": "markdown",
   "id": "afa965cf-4849-4f1d-a107-e6cc718f6b0b",
   "metadata": {},
   "source": [
    "# Counting DNA Nucleotides\n",
    "https://rosalind.info/problems/dna/"
   ]
  },
  {
   "cell_type": "code",
   "execution_count": 2,
   "id": "6a669350-ff51-4c63-b2e0-7475db3efffa",
   "metadata": {},
   "outputs": [
    {
     "name": "stdout",
     "output_type": "stream",
     "text": [
      "A= 257\n",
      "T= 252\n",
      "C= 243\n",
      "G= 236\n"
     ]
    }
   ],
   "source": [
    "nucleotides= 'TTACTTATGAAGAAAACACTAGATATCGAGAGTAACCAGGGGATACGTTATTTAAAAGCCGCACCATCGTACACGCTTTACATGAAGGCCACTAGCCTATCTCACGCCTTAGGCGTGTGCTCGAGATACGGACATTGTGATGAATGCGACTTTTGGTCCGACAGGTGCTATGCGCCTACGGCAGTACCAATATCCTCTAAAGAAGTTGGAGTCGACTGGCCACATAATGTAATGGACGGACTATGCTGAAGCGGTTCCAACTAGGCTTCTATAAAACTAAGGTCTTCGAGGAAAGAAGCGGGGGCCTCCCCAGATACCAAGGAACACCCCGACAGTCGCAAATAGAATAACGTATACAGAGCTATTCGAGCGATTCGGAACAACAACCTGTCCCATAGCGCAGTGATCAGCCCGGATTCGCAACATCACGTTGTCGAATTGTGGGGACTACATATTCGCGATGACACTCTTGTGCGGTGTTCTAGTACAGGGTCATTGGGGCCGGGTTGGTGTCGCGCCTCCGCGAAGAGATCGTTGCGCCTACTGCTGACTCCACAATCACTTCGTATATTAGGTCTGCTCCCTGAAACTTGTGCTCAGATGGATCTTTTTTTCGGCGGTGCTTTTCACGCTTAAGGAGCATCCGATATGGAATAGTGATTTATATACTTATAGGATATGGGACCTTAAAAAAGATCCTATCGGTTCAGACCAATATGTCCTTCTATACGACTATTCCAAGTACGCTCGTACTTATCGGGGGAACTACGTACTAAGGCGCCCGCTACCAGGTGGTAAGCACTCCGTAACACTAGCTAGCTTCGGCGCGCTTCTCTCCGTCATGCATGTTGTACACGCCCGTTTGCTTGCAGCAGCGCTATGATTTTGGCTGCGTAGAGGTGTCAGATGCTCAAATAGTCGAACACTTCTTGACCTATGAACACGAAGGCGAATCTCAGACTCAGAATACGCCTCGTCTCCTATACAA'\n",
    "\n",
    "# Start at 0. Every time python encounters a certain variable (A, T, G, C) in the string, it adds 1 to a\n",
    "# At the end, print the number of times the variable was encountered\n",
    "\n",
    "a=0 \n",
    "for x in nucleotides:\n",
    "    if x=='A':\n",
    "        a=a+1\n",
    "print('A=',a)\n",
    "\n",
    "t=0\n",
    "for x in nucleotides:\n",
    "    if x=='T':\n",
    "        t=t+1\n",
    "print('T=',t)\n",
    "\n",
    "c=0\n",
    "for x in nucleotides:\n",
    "    if x=='C':\n",
    "        c=c+1\n",
    "print('C=',c)\n",
    "\n",
    "g=0\n",
    "for x in nucleotides:\n",
    "    if x=='G':\n",
    "        g=g+1\n",
    "print('G=',g)"
   ]
  }
 ],
 "metadata": {
  "kernelspec": {
   "display_name": "Python 3 (ipykernel)",
   "language": "python",
   "name": "python3"
  },
  "language_info": {
   "codemirror_mode": {
    "name": "ipython",
    "version": 3
   },
   "file_extension": ".py",
   "mimetype": "text/x-python",
   "name": "python",
   "nbconvert_exporter": "python",
   "pygments_lexer": "ipython3",
   "version": "3.11.4"
  }
 },
 "nbformat": 4,
 "nbformat_minor": 5
}
